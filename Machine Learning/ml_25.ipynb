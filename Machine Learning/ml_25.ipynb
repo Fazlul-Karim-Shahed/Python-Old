{
 "cells": [
  {
   "cell_type": "code",
   "execution_count": 5,
   "id": "81d064b3",
   "metadata": {},
   "outputs": [],
   "source": [
    "import pandas as pd\n",
    "import matplotlib.pyplot as plt\n",
    "import numpy as np"
   ]
  },
  {
   "cell_type": "code",
   "execution_count": 3,
   "id": "ab1fd9f8",
   "metadata": {},
   "outputs": [
    {
     "data": {
      "text/html": [
       "<div>\n",
       "<style scoped>\n",
       "    .dataframe tbody tr th:only-of-type {\n",
       "        vertical-align: middle;\n",
       "    }\n",
       "\n",
       "    .dataframe tbody tr th {\n",
       "        vertical-align: top;\n",
       "    }\n",
       "\n",
       "    .dataframe thead th {\n",
       "        text-align: right;\n",
       "    }\n",
       "</style>\n",
       "<table border=\"1\" class=\"dataframe\">\n",
       "  <thead>\n",
       "    <tr style=\"text-align: right;\">\n",
       "      <th></th>\n",
       "      <th>Area</th>\n",
       "      <th>Price</th>\n",
       "    </tr>\n",
       "  </thead>\n",
       "  <tbody>\n",
       "    <tr>\n",
       "      <th>0</th>\n",
       "      <td>2600</td>\n",
       "      <td>55000</td>\n",
       "    </tr>\n",
       "    <tr>\n",
       "      <th>1</th>\n",
       "      <td>3000</td>\n",
       "      <td>56500</td>\n",
       "    </tr>\n",
       "    <tr>\n",
       "      <th>2</th>\n",
       "      <td>3200</td>\n",
       "      <td>61000</td>\n",
       "    </tr>\n",
       "    <tr>\n",
       "      <th>3</th>\n",
       "      <td>3600</td>\n",
       "      <td>68000</td>\n",
       "    </tr>\n",
       "    <tr>\n",
       "      <th>4</th>\n",
       "      <td>4000</td>\n",
       "      <td>72000</td>\n",
       "    </tr>\n",
       "    <tr>\n",
       "      <th>5</th>\n",
       "      <td>5000</td>\n",
       "      <td>71000</td>\n",
       "    </tr>\n",
       "    <tr>\n",
       "      <th>6</th>\n",
       "      <td>2500</td>\n",
       "      <td>40000</td>\n",
       "    </tr>\n",
       "    <tr>\n",
       "      <th>7</th>\n",
       "      <td>2700</td>\n",
       "      <td>38000</td>\n",
       "    </tr>\n",
       "    <tr>\n",
       "      <th>8</th>\n",
       "      <td>1200</td>\n",
       "      <td>17000</td>\n",
       "    </tr>\n",
       "    <tr>\n",
       "      <th>9</th>\n",
       "      <td>5000</td>\n",
       "      <td>100000</td>\n",
       "    </tr>\n",
       "  </tbody>\n",
       "</table>\n",
       "</div>"
      ],
      "text/plain": [
       "   Area   Price\n",
       "0  2600   55000\n",
       "1  3000   56500\n",
       "2  3200   61000\n",
       "3  3600   68000\n",
       "4  4000   72000\n",
       "5  5000   71000\n",
       "6  2500   40000\n",
       "7  2700   38000\n",
       "8  1200   17000\n",
       "9  5000  100000"
      ]
     },
     "execution_count": 3,
     "metadata": {},
     "output_type": "execute_result"
    }
   ],
   "source": [
    "ds = pd.read_csv('../../DataSheets/Area_Price.csv')\n",
    "ds"
   ]
  },
  {
   "cell_type": "code",
   "execution_count": 13,
   "id": "d212855b",
   "metadata": {},
   "outputs": [],
   "source": [
    "def gradient_descent(x, y):\n",
    "    x = np.array(x)\n",
    "    y = np.array(y)\n",
    "    m = b = 0\n",
    "    learning_rate = 0.01\n",
    "    for i in range(10):\n",
    "        y_predict = m*x + b\n",
    "        costFun = 1/len(x) * sum([j*j for j in (y - y_predict)])\n",
    "        dm = 2/len(x) * sum([j for j in (-x*(y-y_predict))])\n",
    "        db = 2/len(x) * sum([k for k in (-(y-y_predict))])\n",
    "        m = m - learning_rate*dm\n",
    "        b = b - learning_rate*db\n",
    "        print('m {}, b {}, cost {} iteration {}'.format(m, b, costFun, i))"
   ]
  },
  {
   "cell_type": "code",
   "execution_count": 14,
   "id": "101b828f",
   "metadata": {},
   "outputs": [
    {
     "name": "stdout",
     "output_type": "stream",
     "text": [
      "m 0.62, b 0.18, cost 89.0 iteration 0\n",
      "m 1.0928, b 0.3192, cost 52.25039999999999 iteration 1\n",
      "m 1.453232, b 0.42724799999999996, cost 30.831949440000002 iteration 2\n",
      "m 1.7278860800000002, b 0.5115091199999999, cost 18.347751350784 iteration 3\n",
      "m 1.9370605952000002, b 0.5776057727999999, cost 11.070010749324897 iteration 4\n",
      "m 2.096250917888, b 0.6298300216319999, cost 6.826353152519786 iteration 5\n",
      "m 2.2172859146547204, b 0.6714583661260799, cost 4.350826141683065 iteration 6\n",
      "m 2.309195511463117, b 0.7049920439242751, cost 2.9056952040975976 iteration 7\n",
      "m 2.3788729763057748, b 0.7323404723580026, cost 2.0610450731046615 iteration 8\n",
      "m 2.431580493177024, b 0.7549612843324961, cost 1.5663423003130599 iteration 9\n"
     ]
    }
   ],
   "source": [
    "gradient_descent([1,2,3,4,5], [5,7,9,11,13])"
   ]
  },
  {
   "cell_type": "code",
   "execution_count": null,
   "id": "db823a00",
   "metadata": {},
   "outputs": [],
   "source": []
  }
 ],
 "metadata": {
  "kernelspec": {
   "display_name": "Python 3 (ipykernel)",
   "language": "python",
   "name": "python3"
  },
  "language_info": {
   "codemirror_mode": {
    "name": "ipython",
    "version": 3
   },
   "file_extension": ".py",
   "mimetype": "text/x-python",
   "name": "python",
   "nbconvert_exporter": "python",
   "pygments_lexer": "ipython3",
   "version": "3.10.6"
  }
 },
 "nbformat": 4,
 "nbformat_minor": 5
}
