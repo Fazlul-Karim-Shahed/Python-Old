{
 "cells": [
  {
   "cell_type": "code",
   "execution_count": 26,
   "id": "b23361ce",
   "metadata": {},
   "outputs": [],
   "source": [
    "import pandas\n",
    "import numpy as np\n",
    "from sklearn.linear_model import LinearRegression\n",
    "from sklearn.model_selection import train_test_split\n",
    "from sklearn.metrics import r2_score"
   ]
  },
  {
   "cell_type": "code",
   "execution_count": 5,
   "id": "2cb0c72d",
   "metadata": {},
   "outputs": [],
   "source": [
    "ds = pandas.read_csv('Datasheets/company profit.csv')"
   ]
  },
  {
   "cell_type": "code",
   "execution_count": 6,
   "id": "2ed3195b",
   "metadata": {},
   "outputs": [
    {
     "data": {
      "text/html": [
       "<div>\n",
       "<style scoped>\n",
       "    .dataframe tbody tr th:only-of-type {\n",
       "        vertical-align: middle;\n",
       "    }\n",
       "\n",
       "    .dataframe tbody tr th {\n",
       "        vertical-align: top;\n",
       "    }\n",
       "\n",
       "    .dataframe thead th {\n",
       "        text-align: right;\n",
       "    }\n",
       "</style>\n",
       "<table border=\"1\" class=\"dataframe\">\n",
       "  <thead>\n",
       "    <tr style=\"text-align: right;\">\n",
       "      <th></th>\n",
       "      <th>Marketing Spend</th>\n",
       "      <th>Administration</th>\n",
       "      <th>Transport</th>\n",
       "      <th>Area</th>\n",
       "      <th>Profit</th>\n",
       "    </tr>\n",
       "  </thead>\n",
       "  <tbody>\n",
       "    <tr>\n",
       "      <th>0</th>\n",
       "      <td>114523.61</td>\n",
       "      <td>136897.80</td>\n",
       "      <td>471784.10</td>\n",
       "      <td>Dhaka</td>\n",
       "      <td>192261.83</td>\n",
       "    </tr>\n",
       "    <tr>\n",
       "      <th>1</th>\n",
       "      <td>162597.70</td>\n",
       "      <td>151377.59</td>\n",
       "      <td>443898.53</td>\n",
       "      <td>Ctg</td>\n",
       "      <td>191792.06</td>\n",
       "    </tr>\n",
       "    <tr>\n",
       "      <th>2</th>\n",
       "      <td>153441.51</td>\n",
       "      <td>101145.55</td>\n",
       "      <td>407934.54</td>\n",
       "      <td>Rangpur</td>\n",
       "      <td>191050.39</td>\n",
       "    </tr>\n",
       "    <tr>\n",
       "      <th>3</th>\n",
       "      <td>144372.41</td>\n",
       "      <td>118671.85</td>\n",
       "      <td>383199.62</td>\n",
       "      <td>Dhaka</td>\n",
       "      <td>182901.99</td>\n",
       "    </tr>\n",
       "    <tr>\n",
       "      <th>4</th>\n",
       "      <td>142107.34</td>\n",
       "      <td>91391.77</td>\n",
       "      <td>366168.42</td>\n",
       "      <td>Rangpur</td>\n",
       "      <td>166187.94</td>\n",
       "    </tr>\n",
       "  </tbody>\n",
       "</table>\n",
       "</div>"
      ],
      "text/plain": [
       "   Marketing Spend  Administration  Transport     Area     Profit\n",
       "0        114523.61       136897.80  471784.10    Dhaka  192261.83\n",
       "1        162597.70       151377.59  443898.53      Ctg  191792.06\n",
       "2        153441.51       101145.55  407934.54  Rangpur  191050.39\n",
       "3        144372.41       118671.85  383199.62    Dhaka  182901.99\n",
       "4        142107.34        91391.77  366168.42  Rangpur  166187.94"
      ]
     },
     "execution_count": 6,
     "metadata": {},
     "output_type": "execute_result"
    }
   ],
   "source": [
    "ds.head()"
   ]
  },
  {
   "cell_type": "markdown",
   "id": "a50658cd",
   "metadata": {},
   "source": [
    "# Encoding"
   ]
  },
  {
   "cell_type": "code",
   "execution_count": 7,
   "id": "7ffac986",
   "metadata": {},
   "outputs": [],
   "source": [
    "dummy = pandas.get_dummies(ds.Area, drop_first=True)"
   ]
  },
  {
   "cell_type": "code",
   "execution_count": 8,
   "id": "de72d631",
   "metadata": {},
   "outputs": [],
   "source": [
    "ds = pandas.concat([ds, dummy], axis=1)"
   ]
  },
  {
   "cell_type": "code",
   "execution_count": 9,
   "id": "b4bd5f82",
   "metadata": {},
   "outputs": [],
   "source": [
    "ds = ds.drop('Area', axis=1)"
   ]
  },
  {
   "cell_type": "code",
   "execution_count": 11,
   "id": "156614fd",
   "metadata": {},
   "outputs": [
    {
     "data": {
      "text/html": [
       "<div>\n",
       "<style scoped>\n",
       "    .dataframe tbody tr th:only-of-type {\n",
       "        vertical-align: middle;\n",
       "    }\n",
       "\n",
       "    .dataframe tbody tr th {\n",
       "        vertical-align: top;\n",
       "    }\n",
       "\n",
       "    .dataframe thead th {\n",
       "        text-align: right;\n",
       "    }\n",
       "</style>\n",
       "<table border=\"1\" class=\"dataframe\">\n",
       "  <thead>\n",
       "    <tr style=\"text-align: right;\">\n",
       "      <th></th>\n",
       "      <th>Marketing Spend</th>\n",
       "      <th>Administration</th>\n",
       "      <th>Transport</th>\n",
       "      <th>Profit</th>\n",
       "      <th>Dhaka</th>\n",
       "      <th>Rangpur</th>\n",
       "    </tr>\n",
       "  </thead>\n",
       "  <tbody>\n",
       "    <tr>\n",
       "      <th>0</th>\n",
       "      <td>114523.61</td>\n",
       "      <td>136897.80</td>\n",
       "      <td>471784.10</td>\n",
       "      <td>192261.83</td>\n",
       "      <td>1</td>\n",
       "      <td>0</td>\n",
       "    </tr>\n",
       "    <tr>\n",
       "      <th>1</th>\n",
       "      <td>162597.70</td>\n",
       "      <td>151377.59</td>\n",
       "      <td>443898.53</td>\n",
       "      <td>191792.06</td>\n",
       "      <td>0</td>\n",
       "      <td>0</td>\n",
       "    </tr>\n",
       "    <tr>\n",
       "      <th>2</th>\n",
       "      <td>153441.51</td>\n",
       "      <td>101145.55</td>\n",
       "      <td>407934.54</td>\n",
       "      <td>191050.39</td>\n",
       "      <td>0</td>\n",
       "      <td>1</td>\n",
       "    </tr>\n",
       "    <tr>\n",
       "      <th>3</th>\n",
       "      <td>144372.41</td>\n",
       "      <td>118671.85</td>\n",
       "      <td>383199.62</td>\n",
       "      <td>182901.99</td>\n",
       "      <td>1</td>\n",
       "      <td>0</td>\n",
       "    </tr>\n",
       "    <tr>\n",
       "      <th>4</th>\n",
       "      <td>142107.34</td>\n",
       "      <td>91391.77</td>\n",
       "      <td>366168.42</td>\n",
       "      <td>166187.94</td>\n",
       "      <td>0</td>\n",
       "      <td>1</td>\n",
       "    </tr>\n",
       "  </tbody>\n",
       "</table>\n",
       "</div>"
      ],
      "text/plain": [
       "   Marketing Spend  Administration  Transport     Profit  Dhaka  Rangpur\n",
       "0        114523.61       136897.80  471784.10  192261.83      1        0\n",
       "1        162597.70       151377.59  443898.53  191792.06      0        0\n",
       "2        153441.51       101145.55  407934.54  191050.39      0        1\n",
       "3        144372.41       118671.85  383199.62  182901.99      1        0\n",
       "4        142107.34        91391.77  366168.42  166187.94      0        1"
      ]
     },
     "execution_count": 11,
     "metadata": {},
     "output_type": "execute_result"
    }
   ],
   "source": [
    "ds.head()"
   ]
  },
  {
   "cell_type": "markdown",
   "id": "6ff5789c",
   "metadata": {},
   "source": [
    "# Train"
   ]
  },
  {
   "cell_type": "code",
   "execution_count": 13,
   "id": "75ce888d",
   "metadata": {},
   "outputs": [],
   "source": [
    "y = ds.Profit"
   ]
  },
  {
   "cell_type": "code",
   "execution_count": 15,
   "id": "3e5f46bb",
   "metadata": {},
   "outputs": [],
   "source": [
    "x = ds.drop('Profit', axis=1)"
   ]
  },
  {
   "cell_type": "code",
   "execution_count": 20,
   "id": "fa8aa1c5",
   "metadata": {},
   "outputs": [],
   "source": [
    "xtrain, xtest, ytrain, ytest = train_test_split(x,y, test_size=.20, random_state=0)"
   ]
  },
  {
   "cell_type": "code",
   "execution_count": 24,
   "id": "9f11fc5d",
   "metadata": {},
   "outputs": [
    {
     "data": {
      "text/plain": [
       "28    103282.38\n",
       "11    144259.40\n",
       "10    146121.95\n",
       "41     77798.83\n",
       "2     191050.39\n",
       "27    105008.31\n",
       "38     81229.06\n",
       "31     97483.56\n",
       "22    110352.25\n",
       "4     166187.94\n",
       "Name: Profit, dtype: float64"
      ]
     },
     "execution_count": 24,
     "metadata": {},
     "output_type": "execute_result"
    }
   ],
   "source": [
    "ytest"
   ]
  },
  {
   "cell_type": "code",
   "execution_count": 22,
   "id": "0a845156",
   "metadata": {},
   "outputs": [],
   "source": [
    "reg = LinearRegression().fit(xtrain, ytrain)"
   ]
  },
  {
   "cell_type": "code",
   "execution_count": 28,
   "id": "fb9277f8",
   "metadata": {},
   "outputs": [],
   "source": [
    "pred = reg.predict(xtest)"
   ]
  },
  {
   "cell_type": "code",
   "execution_count": 29,
   "id": "9cde6dea",
   "metadata": {},
   "outputs": [
    {
     "data": {
      "text/plain": [
       "array([103041.93019584, 128255.24514289, 126922.75723244,  71221.31157266,\n",
       "       173705.4106333 , 124824.61560479,  70488.40325151,  98535.73506129,\n",
       "       116684.02101869, 161845.22370375])"
      ]
     },
     "execution_count": 29,
     "metadata": {},
     "output_type": "execute_result"
    }
   ],
   "source": [
    "pred"
   ]
  },
  {
   "cell_type": "code",
   "execution_count": 30,
   "id": "16f268ad",
   "metadata": {},
   "outputs": [],
   "source": [
    "score = r2_score(ytest, pred)"
   ]
  },
  {
   "cell_type": "code",
   "execution_count": null,
   "id": "04385172",
   "metadata": {},
   "outputs": [],
   "source": []
  }
 ],
 "metadata": {
  "kernelspec": {
   "display_name": "Python 3 (ipykernel)",
   "language": "python",
   "name": "python3"
  },
  "language_info": {
   "codemirror_mode": {
    "name": "ipython",
    "version": 3
   },
   "file_extension": ".py",
   "mimetype": "text/x-python",
   "name": "python",
   "nbconvert_exporter": "python",
   "pygments_lexer": "ipython3",
   "version": "3.9.7"
  }
 },
 "nbformat": 4,
 "nbformat_minor": 5
}
