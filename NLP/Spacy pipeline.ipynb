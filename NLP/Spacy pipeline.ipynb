{
 "cells": [
  {
   "cell_type": "markdown",
   "id": "1dabf56f-26b0-4f70-8229-10f4547514d3",
   "metadata": {},
   "source": [
    "# Blank pipeline"
   ]
  },
  {
   "cell_type": "markdown",
   "id": "9df6c041-2f19-46fe-8ec5-037491b2f1cb",
   "metadata": {},
   "source": [
    "Before adding pipeline"
   ]
  },
  {
   "cell_type": "code",
   "execution_count": 1,
   "id": "260a7754-b1c9-44f7-91c7-66a8c444901c",
   "metadata": {},
   "outputs": [],
   "source": [
    "import spacy"
   ]
  },
  {
   "cell_type": "code",
   "execution_count": 2,
   "id": "43c2a99f-b5c4-48d5-8c7d-51dd3f8e4975",
   "metadata": {},
   "outputs": [],
   "source": [
    "nlp = spacy.blank(\"en\")"
   ]
  },
  {
   "cell_type": "code",
   "execution_count": 3,
   "id": "b87c3022-147d-4b34-b8f2-96916ec2960a",
   "metadata": {},
   "outputs": [
    {
     "data": {
      "text/plain": [
       "[]"
      ]
     },
     "execution_count": 3,
     "metadata": {},
     "output_type": "execute_result"
    }
   ],
   "source": [
    "nlp.pipe_names"
   ]
  },
  {
   "cell_type": "code",
   "execution_count": 4,
   "id": "afef3dcd-adc2-4bd7-8ce5-7fda34c50072",
   "metadata": {},
   "outputs": [],
   "source": [
    "doc = nlp(\"Dr. Urmi loves pizza. Engr. Shahed loves to eat burger. But they love each other!. Urmi's email is urmi@gmail.com and Shahed's email is fazlul.shahed2000@gmail.com. Currently Shahed working as probationary member a Koncept-Tech. Urmi studied in Women Medical College\")"
   ]
  },
  {
   "cell_type": "code",
   "execution_count": 5,
   "id": "b00d7b46-aae5-4db4-ae37-fa084d068791",
   "metadata": {},
   "outputs": [
    {
     "ename": "ValueError",
     "evalue": "[E030] Sentence boundaries unset. You can add the 'sentencizer' component to the pipeline with: `nlp.add_pipe('sentencizer')`. Alternatively, add the dependency parser or sentence recognizer, or set sentence boundaries by setting `doc[i].is_sent_start`.",
     "output_type": "error",
     "traceback": [
      "\u001b[1;31m---------------------------------------------------------------------------\u001b[0m",
      "\u001b[1;31mValueError\u001b[0m                                Traceback (most recent call last)",
      "Cell \u001b[1;32mIn[5], line 1\u001b[0m\n\u001b[1;32m----> 1\u001b[0m \u001b[38;5;28;01mfor\u001b[39;00m i \u001b[38;5;129;01min\u001b[39;00m doc\u001b[38;5;241m.\u001b[39msents:\n\u001b[0;32m      2\u001b[0m     \u001b[38;5;28mprint\u001b[39m(i)\n",
      "File \u001b[1;32m~\\AppData\\Local\\Programs\\Python\\Python311\\Lib\\site-packages\\spacy\\tokens\\doc.pyx:923\u001b[0m, in \u001b[0;36msents\u001b[1;34m()\u001b[0m\n",
      "\u001b[1;31mValueError\u001b[0m: [E030] Sentence boundaries unset. You can add the 'sentencizer' component to the pipeline with: `nlp.add_pipe('sentencizer')`. Alternatively, add the dependency parser or sentence recognizer, or set sentence boundaries by setting `doc[i].is_sent_start`."
     ]
    }
   ],
   "source": [
    "for i in doc.sents:\n",
    "    print(i)"
   ]
  },
  {
   "cell_type": "code",
   "execution_count": null,
   "id": "3b0c150c-dae5-4103-b71b-23befc050575",
   "metadata": {},
   "outputs": [],
   "source": [
    "for token in doc:\n",
    "    print(token, \"|\" , token.pos_, \"|\", token.lemma_)"
   ]
  },
  {
   "cell_type": "markdown",
   "id": "40972832-d6f5-42e5-8fb8-c56c0df23bfd",
   "metadata": {},
   "source": [
    "# Adding Pipeline"
   ]
  },
  {
   "cell_type": "code",
   "execution_count": 19,
   "id": "a7606ee7-b528-4aca-9e78-cd9b5500b840",
   "metadata": {},
   "outputs": [
    {
     "ename": "ValueError",
     "evalue": "[E007] 'attribute_ruler' already exists in pipeline. Existing names: ['lemmatizer', 'ner', 'parser', 'tok2vec', 'tagger', 'attribute_ruler']",
     "output_type": "error",
     "traceback": [
      "\u001b[1;31m---------------------------------------------------------------------------\u001b[0m",
      "\u001b[1;31mValueError\u001b[0m                                Traceback (most recent call last)",
      "Cell \u001b[1;32mIn[19], line 3\u001b[0m\n\u001b[0;32m      1\u001b[0m nlp_source \u001b[38;5;241m=\u001b[39m spacy\u001b[38;5;241m.\u001b[39mload(\u001b[38;5;124m\"\u001b[39m\u001b[38;5;124men_core_web_sm\u001b[39m\u001b[38;5;124m\"\u001b[39m)\n\u001b[1;32m----> 3\u001b[0m \u001b[43mnlp\u001b[49m\u001b[38;5;241;43m.\u001b[39;49m\u001b[43madd_pipe\u001b[49m\u001b[43m(\u001b[49m\u001b[38;5;124;43m\"\u001b[39;49m\u001b[38;5;124;43mattribute_ruler\u001b[39;49m\u001b[38;5;124;43m\"\u001b[39;49m\u001b[43m,\u001b[49m\u001b[43m \u001b[49m\u001b[43msource\u001b[49m\u001b[38;5;241;43m=\u001b[39;49m\u001b[43mnlp_source\u001b[49m\u001b[43m)\u001b[49m\n\u001b[0;32m      4\u001b[0m doc \u001b[38;5;241m=\u001b[39m nlp(\u001b[38;5;124m\"\u001b[39m\u001b[38;5;124mDr. Urmi loves pizza. Engr. Shahed loves to eat burger. But they love each other!. Urmi\u001b[39m\u001b[38;5;124m'\u001b[39m\u001b[38;5;124ms email is urmi@gmail.com and Shahed\u001b[39m\u001b[38;5;124m'\u001b[39m\u001b[38;5;124ms email is fazlul.shahed2000@gmail.com. Currently Shahed working as probationary member in Koncept-Tech. Urmi studied in Women Medical College\u001b[39m\u001b[38;5;124m\"\u001b[39m)\n\u001b[0;32m      5\u001b[0m nlp\u001b[38;5;241m.\u001b[39mpipe_names\n",
      "File \u001b[1;32m~\\AppData\\Local\\Programs\\Python\\Python311\\Lib\\site-packages\\spacy\\language.py:803\u001b[0m, in \u001b[0;36mLanguage.add_pipe\u001b[1;34m(self, factory_name, name, before, after, first, last, source, config, raw_config, validate)\u001b[0m\n\u001b[0;32m    801\u001b[0m name \u001b[38;5;241m=\u001b[39m name \u001b[38;5;28;01mif\u001b[39;00m name \u001b[38;5;129;01mis\u001b[39;00m \u001b[38;5;129;01mnot\u001b[39;00m \u001b[38;5;28;01mNone\u001b[39;00m \u001b[38;5;28;01melse\u001b[39;00m factory_name\n\u001b[0;32m    802\u001b[0m \u001b[38;5;28;01mif\u001b[39;00m name \u001b[38;5;129;01min\u001b[39;00m \u001b[38;5;28mself\u001b[39m\u001b[38;5;241m.\u001b[39mcomponent_names:\n\u001b[1;32m--> 803\u001b[0m     \u001b[38;5;28;01mraise\u001b[39;00m \u001b[38;5;167;01mValueError\u001b[39;00m(Errors\u001b[38;5;241m.\u001b[39mE007\u001b[38;5;241m.\u001b[39mformat(name\u001b[38;5;241m=\u001b[39mname, opts\u001b[38;5;241m=\u001b[39m\u001b[38;5;28mself\u001b[39m\u001b[38;5;241m.\u001b[39mcomponent_names))\n\u001b[0;32m    804\u001b[0m \u001b[38;5;66;03m# Overriding pipe name in the config is not supported and will be ignored.\u001b[39;00m\n\u001b[0;32m    805\u001b[0m \u001b[38;5;28;01mif\u001b[39;00m \u001b[38;5;124m\"\u001b[39m\u001b[38;5;124mname\u001b[39m\u001b[38;5;124m\"\u001b[39m \u001b[38;5;129;01min\u001b[39;00m config:\n",
      "\u001b[1;31mValueError\u001b[0m: [E007] 'attribute_ruler' already exists in pipeline. Existing names: ['lemmatizer', 'ner', 'parser', 'tok2vec', 'tagger', 'attribute_ruler']"
     ]
    }
   ],
   "source": [
    "nlp_source = spacy.load(\"en_core_web_sm\")\n",
    "\n",
    "nlp.add_pipe(\"attribute_ruler\", source=nlp_source)\n",
    "doc = nlp(\"Dr. Urmi loves pizza. Engr. Shahed loves to eat burger. But they love each other!. Urmi's email is urmi@gmail.com and Shahed's email is fazlul.shahed2000@gmail.com. Currently Shahed working as probationary member in Koncept-Tech. Urmi studied in Women Medical College\")\n",
    "nlp.pipe_names"
   ]
  },
  {
   "cell_type": "code",
   "execution_count": 22,
   "id": "6118baae-662f-4e60-8c7b-fb381c211527",
   "metadata": {},
   "outputs": [
    {
     "name": "stdout",
     "output_type": "stream",
     "text": [
      "Dr. => PROPN => dr.\n",
      "Urmi => PROPN => urmi\n",
      "loves => VERB => loves\n",
      "pizza => NOUN => pizza\n",
      ". => PUNCT => .\n",
      "Engr => NOUN => engr\n",
      ". => PUNCT => .\n",
      "Shahed => VERB => shahed\n",
      "loves => VERB => loves\n",
      "to => PART => to\n",
      "eat => VERB => eat\n",
      "burger => NOUN => burger\n",
      ". => PUNCT => .\n",
      "But => CCONJ => but\n",
      "they => PRON => they\n",
      "love => VERB => love\n",
      "each => PRON => each\n",
      "other => ADJ => other\n",
      "! => PUNCT => !\n",
      ". => PUNCT => .\n",
      "Urmi => PROPN => urmi\n",
      "'s => PART => 's\n",
      "email => NOUN => email\n",
      "is => AUX => be\n",
      "urmi@gmail.com => X => urmi@gmail.com\n",
      "and => CCONJ => and\n",
      "Shahed => PROPN => shahed\n",
      "'s => PART => 's\n",
      "email => NOUN => email\n",
      "is => AUX => be\n",
      "fazlul.shahed2000@gmail.com => NUM => fazlul.shahed2000@gmail.com\n",
      ". => PUNCT => .\n",
      "Currently => ADV => currently\n",
      "Shahed => PROPN => shahed\n",
      "working => VERB => working\n",
      "as => ADP => as\n",
      "probationary => ADJ => probationary\n",
      "member => NOUN => member\n",
      "a => PRON => a\n",
      "Koncept => PROPN => koncept\n",
      "- => PUNCT => -\n",
      "Tech => PROPN => tech\n",
      ". => PUNCT => .\n",
      "Urmi => PROPN => urmi\n",
      "studied => VERB => studied\n",
      "in => ADP => in\n",
      "Women => PROPN => women\n",
      "Medical => PROPN => medical\n",
      "College => PROPN => college\n"
     ]
    }
   ],
   "source": [
    "for token in doc:\n",
    "    print(token, \"=>\" , token.pos_, \"=>\", token.lemma_)"
   ]
  },
  {
   "cell_type": "code",
   "execution_count": 25,
   "id": "ab935fa6-0df1-494d-a163-7f9a04ae72a3",
   "metadata": {},
   "outputs": [
    {
     "name": "stdout",
     "output_type": "stream",
     "text": [
      "Urmi ===> PERSON ===> People, including fictional\n",
      "Urmi ===> PERSON ===> People, including fictional\n",
      "Shahed ===> ORG ===> Companies, agencies, institutions, etc.\n",
      "Koncept-Tech ===> ORG ===> Companies, agencies, institutions, etc.\n",
      "Women Medical College ===> ORG ===> Companies, agencies, institutions, etc.\n"
     ]
    }
   ],
   "source": [
    "for token in doc.ents:\n",
    "    print(token.text, \"===>\", token.label_, \"===>\", spacy.explain(token.label_))"
   ]
  },
  {
   "cell_type": "code",
   "execution_count": 28,
   "id": "c096dbcd-f173-4f35-813d-8360899d9573",
   "metadata": {},
   "outputs": [
    {
     "data": {
      "text/html": [
       "<span class=\"tex2jax_ignore\"><div class=\"entities\" style=\"line-height: 2.5; direction: ltr\">Dr. \n",
       "<mark class=\"entity\" style=\"background: #aa9cfc; padding: 0.45em 0.6em; margin: 0 0.25em; line-height: 1; border-radius: 0.35em;\">\n",
       "    Urmi\n",
       "    <span style=\"font-size: 0.8em; font-weight: bold; line-height: 1; border-radius: 0.35em; vertical-align: middle; margin-left: 0.5rem\">PERSON</span>\n",
       "</mark>\n",
       " loves pizza. Engr. Shahed loves to eat burger. But they love each other!. \n",
       "<mark class=\"entity\" style=\"background: #aa9cfc; padding: 0.45em 0.6em; margin: 0 0.25em; line-height: 1; border-radius: 0.35em;\">\n",
       "    Urmi\n",
       "    <span style=\"font-size: 0.8em; font-weight: bold; line-height: 1; border-radius: 0.35em; vertical-align: middle; margin-left: 0.5rem\">PERSON</span>\n",
       "</mark>\n",
       "'s email is urmi@gmail.com and Me named \n",
       "<mark class=\"entity\" style=\"background: #aa9cfc; padding: 0.45em 0.6em; margin: 0 0.25em; line-height: 1; border-radius: 0.35em;\">\n",
       "    Shahed\n",
       "    <span style=\"font-size: 0.8em; font-weight: bold; line-height: 1; border-radius: 0.35em; vertical-align: middle; margin-left: 0.5rem\">PERSON</span>\n",
       "</mark>\n",
       "'s email is fazlul.shahed2000@gmail.com. Currently Shahed working as probationary member in \n",
       "<mark class=\"entity\" style=\"background: #7aecec; padding: 0.45em 0.6em; margin: 0 0.25em; line-height: 1; border-radius: 0.35em;\">\n",
       "    Koncept-Tech\n",
       "    <span style=\"font-size: 0.8em; font-weight: bold; line-height: 1; border-radius: 0.35em; vertical-align: middle; margin-left: 0.5rem\">ORG</span>\n",
       "</mark>\n",
       ". Urmi studied in \n",
       "<mark class=\"entity\" style=\"background: #7aecec; padding: 0.45em 0.6em; margin: 0 0.25em; line-height: 1; border-radius: 0.35em;\">\n",
       "    Women Medical College\n",
       "    <span style=\"font-size: 0.8em; font-weight: bold; line-height: 1; border-radius: 0.35em; vertical-align: middle; margin-left: 0.5rem\">ORG</span>\n",
       "</mark>\n",
       "</div></span>"
      ],
      "text/plain": [
       "<IPython.core.display.HTML object>"
      ]
     },
     "metadata": {},
     "output_type": "display_data"
    }
   ],
   "source": [
    "doc = nlp(\"Dr. Urmi loves pizza. Engr. Shahed loves to eat burger. But they love each other!. Urmi's email is urmi@gmail.com and Me named Shahed's email is fazlul.shahed2000@gmail.com. Currently Shahed working as probationary member in Koncept-Tech. Urmi studied in Women Medical College\")\n",
    "\n",
    "spacy.displacy.render(doc, style='ent')"
   ]
  },
  {
   "cell_type": "code",
   "execution_count": null,
   "id": "83acf9c1-e578-4e06-b8c9-ae0fa2375b3d",
   "metadata": {},
   "outputs": [],
   "source": []
  }
 ],
 "metadata": {
  "kernelspec": {
   "display_name": "Python 3 (ipykernel)",
   "language": "python",
   "name": "python3"
  },
  "language_info": {
   "codemirror_mode": {
    "name": "ipython",
    "version": 3
   },
   "file_extension": ".py",
   "mimetype": "text/x-python",
   "name": "python",
   "nbconvert_exporter": "python",
   "pygments_lexer": "ipython3",
   "version": "3.11.4"
  }
 },
 "nbformat": 4,
 "nbformat_minor": 5
}
