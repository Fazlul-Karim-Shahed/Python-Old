{
 "cells": [
  {
   "cell_type": "markdown",
   "id": "40396c8a-7c40-479f-8f11-d9d7625baa1c",
   "metadata": {},
   "source": [
    "# Spacy"
   ]
  },
  {
   "cell_type": "code",
   "execution_count": 3,
   "id": "99ef3983-c2c0-4400-8c36-709c7916a86f",
   "metadata": {},
   "outputs": [],
   "source": [
    "import spacy"
   ]
  },
  {
   "cell_type": "code",
   "execution_count": 4,
   "id": "2e1c2302-075d-4fe6-80a5-1c1f7c88c9ce",
   "metadata": {},
   "outputs": [],
   "source": [
    "nlp = spacy.load(\"en_core_web_sm\")"
   ]
  },
  {
   "cell_type": "code",
   "execution_count": 33,
   "id": "b900fd33-4e9a-4e4f-bdcb-86a946a94670",
   "metadata": {},
   "outputs": [
    {
     "name": "stdout",
     "output_type": "stream",
     "text": [
      "Dr.\n",
      "Urmi\n",
      "loves\n",
      "pizza\n",
      ".\n",
      "Shahed\n",
      "loves\n",
      "Burger\n",
      ".\n"
     ]
    }
   ],
   "source": [
    "text = nlp(\"Dr. Urmi loves pizza. Shahed loves Burger.\")\n",
    "\n",
    "# for i in text:\n",
    "#     print(i)\n",
    "\n",
    "for sentence in text.sents:\n",
    "    for word in sentence:\n",
    "        print(word)"
   ]
  },
  {
   "cell_type": "code",
   "execution_count": 34,
   "id": "c78106a7-1471-4120-bfe7-feead6a1b1c5",
   "metadata": {},
   "outputs": [
    {
     "data": {
      "text/plain": [
       "['tok2vec', 'tagger', 'parser', 'attribute_ruler', 'lemmatizer', 'ner']"
      ]
     },
     "execution_count": 34,
     "metadata": {},
     "output_type": "execute_result"
    }
   ],
   "source": [
    "nlp.pipe_names"
   ]
  },
  {
   "cell_type": "markdown",
   "id": "81d23cea-e71c-44b3-b5d0-d4732608528b",
   "metadata": {},
   "source": [
    "# NLTK"
   ]
  },
  {
   "cell_type": "code",
   "execution_count": 25,
   "id": "9818fdf6-848f-49c5-bac7-2bf00767650d",
   "metadata": {},
   "outputs": [
    {
     "name": "stderr",
     "output_type": "stream",
     "text": [
      "[nltk_data] Downloading package punkt to\n",
      "[nltk_data]     C:\\Users\\fazlu\\AppData\\Roaming\\nltk_data...\n",
      "[nltk_data]   Unzipping tokenizers\\punkt.zip.\n"
     ]
    },
    {
     "data": {
      "text/plain": [
       "True"
      ]
     },
     "execution_count": 25,
     "metadata": {},
     "output_type": "execute_result"
    }
   ],
   "source": [
    "import nltk\n",
    "nltk.download('punkt')"
   ]
  },
  {
   "cell_type": "code",
   "execution_count": 26,
   "id": "558a0ac3-5f89-42f2-a19b-51cb8b797970",
   "metadata": {},
   "outputs": [],
   "source": [
    "from nltk.tokenize import sent_tokenize"
   ]
  },
  {
   "cell_type": "code",
   "execution_count": 28,
   "id": "fd1f467d-d498-492f-bbb6-40d6528e5d21",
   "metadata": {},
   "outputs": [
    {
     "data": {
      "text/plain": [
       "['Dr. Urmi loves pizza.', 'Engr.', 'Shahed loves Burger.']"
      ]
     },
     "execution_count": 28,
     "metadata": {},
     "output_type": "execute_result"
    }
   ],
   "source": [
    "sent_tokenize(\"Dr. Urmi loves pizza. Engr. Shahed loves Burger.\")"
   ]
  },
  {
   "cell_type": "code",
   "execution_count": 29,
   "id": "eb7e755b-68bb-4a65-8570-8cb00bb639a1",
   "metadata": {},
   "outputs": [],
   "source": [
    "from nltk.tokenize import word_tokenize"
   ]
  },
  {
   "cell_type": "code",
   "execution_count": 30,
   "id": "cad239b4-a99d-4d72-b4a7-a8a22c9c6eb3",
   "metadata": {},
   "outputs": [
    {
     "data": {
      "text/plain": [
       "['Dr.',\n",
       " 'Urmi',\n",
       " 'loves',\n",
       " 'pizza',\n",
       " '.',\n",
       " 'Engr',\n",
       " '.',\n",
       " 'Shahed',\n",
       " 'loves',\n",
       " 'Burger',\n",
       " '.']"
      ]
     },
     "execution_count": 30,
     "metadata": {},
     "output_type": "execute_result"
    }
   ],
   "source": [
    "word_tokenize(\"Dr. Urmi loves pizza. Engr. Shahed loves Burger.\")"
   ]
  },
  {
   "cell_type": "code",
   "execution_count": null,
   "id": "80dfae1a-d5ea-44c5-b0fc-344afb69753a",
   "metadata": {},
   "outputs": [],
   "source": []
  }
 ],
 "metadata": {
  "kernelspec": {
   "display_name": "Python 3 (ipykernel)",
   "language": "python",
   "name": "python3"
  },
  "language_info": {
   "codemirror_mode": {
    "name": "ipython",
    "version": 3
   },
   "file_extension": ".py",
   "mimetype": "text/x-python",
   "name": "python",
   "nbconvert_exporter": "python",
   "pygments_lexer": "ipython3",
   "version": "3.11.4"
  }
 },
 "nbformat": 4,
 "nbformat_minor": 5
}
