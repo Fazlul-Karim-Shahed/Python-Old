{
 "cells": [
  {
   "cell_type": "code",
   "execution_count": 1,
   "id": "c2b5305c-014d-488b-962a-b172bea63c51",
   "metadata": {},
   "outputs": [],
   "source": [
    "import spacy"
   ]
  },
  {
   "cell_type": "code",
   "execution_count": 2,
   "id": "cbc13d67-f69e-40b2-b211-2ed9409d93bb",
   "metadata": {},
   "outputs": [],
   "source": [
    "nlp = spacy.load(\"en_core_web_sm\")"
   ]
  },
  {
   "cell_type": "code",
   "execution_count": 3,
   "id": "1ba3ab9b-af81-4315-b28e-9fcef507f577",
   "metadata": {},
   "outputs": [],
   "source": [
    "string  = \"Six years ago when over 700,000 Rohingya men, women and children were driven from their homeland in Myanmar and sought refuge in Bangladesh, the world was aghast at the brutality of the country's rulers. Alongside genocide, they burnt down the homes, shops and establishments of these people to annihilate them. They carried out killing and rape indiscriminately. Women, children, the elderly, no one was spared.\""
   ]
  },
  {
   "cell_type": "code",
   "execution_count": 4,
   "id": "34bf5e9c-5213-49bf-b334-7933a11ab730",
   "metadata": {},
   "outputs": [],
   "source": [
    "doc = nlp(string)"
   ]
  },
  {
   "cell_type": "code",
   "execution_count": 25,
   "id": "87593bc6-82d1-432e-bfa4-f32f6bd5164b",
   "metadata": {},
   "outputs": [
    {
     "name": "stdout",
     "output_type": "stream",
     "text": [
      "Six  ===>  NUM  ===>  numeral  ===>  CD  ===>  cardinal number\n",
      "years  ===>  NOUN  ===>  noun  ===>  NNS  ===>  noun, plural\n",
      "ago  ===>  ADV  ===>  adverb  ===>  RB  ===>  adverb\n",
      "when  ===>  SCONJ  ===>  subordinating conjunction  ===>  WRB  ===>  wh-adverb\n",
      "over  ===>  ADP  ===>  adposition  ===>  IN  ===>  conjunction, subordinating or preposition\n",
      "700,000  ===>  NUM  ===>  numeral  ===>  CD  ===>  cardinal number\n",
      "Rohingya  ===>  PROPN  ===>  proper noun  ===>  NNP  ===>  noun, proper singular\n",
      "men  ===>  NOUN  ===>  noun  ===>  NNS  ===>  noun, plural\n",
      "women  ===>  NOUN  ===>  noun  ===>  NNS  ===>  noun, plural\n",
      "and  ===>  CCONJ  ===>  coordinating conjunction  ===>  CC  ===>  conjunction, coordinating\n",
      "children  ===>  NOUN  ===>  noun  ===>  NNS  ===>  noun, plural\n",
      "were  ===>  AUX  ===>  auxiliary  ===>  VBD  ===>  verb, past tense\n",
      "driven  ===>  VERB  ===>  verb  ===>  VBN  ===>  verb, past participle\n",
      "from  ===>  ADP  ===>  adposition  ===>  IN  ===>  conjunction, subordinating or preposition\n",
      "their  ===>  PRON  ===>  pronoun  ===>  PRP$  ===>  pronoun, possessive\n",
      "homeland  ===>  NOUN  ===>  noun  ===>  NN  ===>  noun, singular or mass\n",
      "in  ===>  ADP  ===>  adposition  ===>  IN  ===>  conjunction, subordinating or preposition\n",
      "Myanmar  ===>  PROPN  ===>  proper noun  ===>  NNP  ===>  noun, proper singular\n",
      "and  ===>  CCONJ  ===>  coordinating conjunction  ===>  CC  ===>  conjunction, coordinating\n",
      "sought  ===>  VERB  ===>  verb  ===>  VBD  ===>  verb, past tense\n",
      "refuge  ===>  NOUN  ===>  noun  ===>  NN  ===>  noun, singular or mass\n",
      "in  ===>  ADP  ===>  adposition  ===>  IN  ===>  conjunction, subordinating or preposition\n",
      "Bangladesh  ===>  PROPN  ===>  proper noun  ===>  NNP  ===>  noun, proper singular\n",
      "the  ===>  DET  ===>  determiner  ===>  DT  ===>  determiner\n",
      "world  ===>  NOUN  ===>  noun  ===>  NN  ===>  noun, singular or mass\n",
      "was  ===>  AUX  ===>  auxiliary  ===>  VBD  ===>  verb, past tense\n",
      "aghast  ===>  ADJ  ===>  adjective  ===>  JJ  ===>  adjective (English), other noun-modifier (Chinese)\n",
      "at  ===>  ADP  ===>  adposition  ===>  IN  ===>  conjunction, subordinating or preposition\n",
      "the  ===>  DET  ===>  determiner  ===>  DT  ===>  determiner\n",
      "brutality  ===>  NOUN  ===>  noun  ===>  NN  ===>  noun, singular or mass\n",
      "of  ===>  ADP  ===>  adposition  ===>  IN  ===>  conjunction, subordinating or preposition\n",
      "the  ===>  DET  ===>  determiner  ===>  DT  ===>  determiner\n",
      "country  ===>  NOUN  ===>  noun  ===>  NN  ===>  noun, singular or mass\n",
      "'s  ===>  PART  ===>  particle  ===>  POS  ===>  possessive ending\n",
      "rulers  ===>  NOUN  ===>  noun  ===>  NNS  ===>  noun, plural\n",
      "Alongside  ===>  ADP  ===>  adposition  ===>  IN  ===>  conjunction, subordinating or preposition\n",
      "genocide  ===>  NOUN  ===>  noun  ===>  NN  ===>  noun, singular or mass\n",
      "they  ===>  PRON  ===>  pronoun  ===>  PRP  ===>  pronoun, personal\n",
      "burnt  ===>  VERB  ===>  verb  ===>  VBD  ===>  verb, past tense\n",
      "down  ===>  ADP  ===>  adposition  ===>  RP  ===>  adverb, particle\n",
      "the  ===>  DET  ===>  determiner  ===>  DT  ===>  determiner\n",
      "homes  ===>  NOUN  ===>  noun  ===>  NNS  ===>  noun, plural\n",
      "shops  ===>  NOUN  ===>  noun  ===>  NNS  ===>  noun, plural\n",
      "and  ===>  CCONJ  ===>  coordinating conjunction  ===>  CC  ===>  conjunction, coordinating\n",
      "establishments  ===>  NOUN  ===>  noun  ===>  NNS  ===>  noun, plural\n",
      "of  ===>  ADP  ===>  adposition  ===>  IN  ===>  conjunction, subordinating or preposition\n",
      "these  ===>  DET  ===>  determiner  ===>  DT  ===>  determiner\n",
      "people  ===>  NOUN  ===>  noun  ===>  NNS  ===>  noun, plural\n",
      "to  ===>  PART  ===>  particle  ===>  TO  ===>  infinitival \"to\"\n",
      "annihilate  ===>  VERB  ===>  verb  ===>  VB  ===>  verb, base form\n",
      "them  ===>  PRON  ===>  pronoun  ===>  PRP  ===>  pronoun, personal\n",
      "They  ===>  PRON  ===>  pronoun  ===>  PRP  ===>  pronoun, personal\n",
      "carried  ===>  VERB  ===>  verb  ===>  VBD  ===>  verb, past tense\n",
      "out  ===>  ADP  ===>  adposition  ===>  RP  ===>  adverb, particle\n",
      "killing  ===>  NOUN  ===>  noun  ===>  NN  ===>  noun, singular or mass\n",
      "and  ===>  CCONJ  ===>  coordinating conjunction  ===>  CC  ===>  conjunction, coordinating\n",
      "rape  ===>  NOUN  ===>  noun  ===>  NN  ===>  noun, singular or mass\n",
      "indiscriminately  ===>  ADV  ===>  adverb  ===>  RB  ===>  adverb\n",
      "Women  ===>  NOUN  ===>  noun  ===>  NNS  ===>  noun, plural\n",
      "children  ===>  NOUN  ===>  noun  ===>  NNS  ===>  noun, plural\n",
      "the  ===>  DET  ===>  determiner  ===>  DT  ===>  determiner\n",
      "elderly  ===>  ADJ  ===>  adjective  ===>  JJ  ===>  adjective (English), other noun-modifier (Chinese)\n",
      "no  ===>  DET  ===>  determiner  ===>  DT  ===>  determiner\n",
      "one  ===>  NOUN  ===>  noun  ===>  NN  ===>  noun, singular or mass\n",
      "was  ===>  AUX  ===>  auxiliary  ===>  VBD  ===>  verb, past tense\n",
      "spared  ===>  VERB  ===>  verb  ===>  VBN  ===>  verb, past participle\n"
     ]
    }
   ],
   "source": [
    "for i in doc:\n",
    "    j = str(i)\n",
    "    if j not in [\".\", \",\"]:\n",
    "        print(i, \" ===> \", i.pos_, \" ===> \", spacy.explain(i.pos_), \" ===> \", i.tag_, \" ===> \", spacy.explain(i.tag_))\n",
    "        "
   ]
  },
  {
   "cell_type": "code",
   "execution_count": null,
   "id": "87969007-02df-4781-9106-165d4ede9658",
   "metadata": {},
   "outputs": [],
   "source": []
  }
 ],
 "metadata": {
  "kernelspec": {
   "display_name": "Python 3 (ipykernel)",
   "language": "python",
   "name": "python3"
  },
  "language_info": {
   "codemirror_mode": {
    "name": "ipython",
    "version": 3
   },
   "file_extension": ".py",
   "mimetype": "text/x-python",
   "name": "python",
   "nbconvert_exporter": "python",
   "pygments_lexer": "ipython3",
   "version": "3.11.4"
  }
 },
 "nbformat": 4,
 "nbformat_minor": 5
}
