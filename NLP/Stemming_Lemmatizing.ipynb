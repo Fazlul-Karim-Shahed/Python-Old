{
 "cells": [
  {
   "cell_type": "markdown",
   "id": "7574a846-5795-42f3-9782-8eebc822c616",
   "metadata": {},
   "source": [
    "# Stemming"
   ]
  },
  {
   "cell_type": "code",
   "execution_count": 10,
   "id": "3f1f4fb6-f60a-4348-a083-8276655271e5",
   "metadata": {},
   "outputs": [],
   "source": [
    "from nltk.stem import PorterStemmer\n",
    "\n",
    "doc = ['ability', 'eating', 'ate', 'encourageous']\n",
    "\n",
    "stemmer = PorterStemmer()\n",
    "\n",
    "# stemmer.stem(doc[2])\n"
   ]
  },
  {
   "cell_type": "code",
   "execution_count": 8,
   "id": "3dca0140-aaa6-4989-a42d-7fc86130b9d1",
   "metadata": {},
   "outputs": [
    {
     "name": "stdout",
     "output_type": "stream",
     "text": [
      "ability  ===>  abil\n",
      "eating  ===>  eat\n",
      "ate  ===>  ate\n",
      "encourageous  ===>  encourag\n"
     ]
    }
   ],
   "source": [
    "for word in doc:\n",
    "    print(word, \" ===> \", stemmer.stem(word))"
   ]
  },
  {
   "cell_type": "markdown",
   "id": "8e47385b-2f36-4752-a7a7-7794952f9804",
   "metadata": {},
   "source": [
    "# Lemmatization"
   ]
  },
  {
   "cell_type": "code",
   "execution_count": 12,
   "id": "aee52075-34fd-48dc-8b03-d1c790f13a31",
   "metadata": {},
   "outputs": [],
   "source": [
    "import spacy"
   ]
  },
  {
   "cell_type": "code",
   "execution_count": 14,
   "id": "5f02daf4-9394-42fe-9837-69bcf5b9f2e0",
   "metadata": {},
   "outputs": [],
   "source": [
    "nlp = spacy.load(\"en_core_web_sm\")\n",
    "\n",
    "doc = nlp(\"Dr. Urmi loves pizza. Engr. Shahed loves to eat burger. But they love each other!. Urmi's email is urmi@gmail.com and Me named Shahed's email is fazlul.shahed2000@gmail.com. Currently Shahed working as probationary member in Koncept-Tech. Urmi studied in Women Medical College\")\n"
   ]
  },
  {
   "cell_type": "code",
   "execution_count": 18,
   "id": "3c13ca48-60aa-4625-a962-3d87fcad2d90",
   "metadata": {},
   "outputs": [
    {
     "data": {
      "text/plain": [
       "'love'"
      ]
     },
     "execution_count": 18,
     "metadata": {},
     "output_type": "execute_result"
    }
   ],
   "source": [
    "doc[2].lemma_"
   ]
  },
  {
   "cell_type": "code",
   "execution_count": 21,
   "id": "85dfd071-5b32-45ee-a8fe-d147f9c91e85",
   "metadata": {},
   "outputs": [
    {
     "name": "stdout",
     "output_type": "stream",
     "text": [
      "Dr.  ===>  Dr.\n",
      "Urmi  ===>  Urmi\n",
      "loves  ===>  love\n",
      "pizza  ===>  pizza\n",
      ".  ===>  .\n",
      "Engr  ===>  engr\n",
      ".  ===>  .\n",
      "Shahed  ===>  shahe\n",
      "loves  ===>  love\n",
      "to  ===>  to\n",
      "eat  ===>  eat\n",
      "burger  ===>  burger\n",
      ".  ===>  .\n",
      "But  ===>  but\n",
      "they  ===>  they\n",
      "love  ===>  love\n",
      "each  ===>  each\n",
      "other  ===>  other\n",
      "!  ===>  !\n",
      ".  ===>  .\n",
      "Urmi  ===>  Urmi\n",
      "'s  ===>  's\n",
      "email  ===>  email\n",
      "is  ===>  be\n",
      "urmi@gmail.com  ===>  urmi@gmail.com\n",
      "and  ===>  and\n",
      "Me  ===>  I\n",
      "named  ===>  name\n",
      "Shahed  ===>  Shahed\n",
      "'s  ===>  's\n",
      "email  ===>  email\n",
      "is  ===>  be\n",
      "fazlul.shahed2000@gmail.com  ===>  fazlul.shahed2000@gmail.com\n",
      ".  ===>  .\n",
      "Currently  ===>  currently\n",
      "Shahed  ===>  Shahed\n",
      "working  ===>  work\n",
      "as  ===>  as\n",
      "probationary  ===>  probationary\n",
      "member  ===>  member\n",
      "in  ===>  in\n",
      "Koncept  ===>  Koncept\n",
      "-  ===>  -\n",
      "Tech  ===>  Tech\n",
      ".  ===>  .\n",
      "Urmi  ===>  Urmi\n",
      "studied  ===>  study\n",
      "in  ===>  in\n",
      "Women  ===>  Women\n",
      "Medical  ===>  Medical\n",
      "College  ===>  College\n"
     ]
    }
   ],
   "source": [
    "for word in doc:\n",
    "    print(word, \" ===> \", word.lemma_)"
   ]
  },
  {
   "cell_type": "code",
   "execution_count": null,
   "id": "f2358256-79e4-4d24-8232-6b02faf91a66",
   "metadata": {},
   "outputs": [],
   "source": []
  }
 ],
 "metadata": {
  "kernelspec": {
   "display_name": "Python 3 (ipykernel)",
   "language": "python",
   "name": "python3"
  },
  "language_info": {
   "codemirror_mode": {
    "name": "ipython",
    "version": 3
   },
   "file_extension": ".py",
   "mimetype": "text/x-python",
   "name": "python",
   "nbconvert_exporter": "python",
   "pygments_lexer": "ipython3",
   "version": "3.11.4"
  }
 },
 "nbformat": 4,
 "nbformat_minor": 5
}
