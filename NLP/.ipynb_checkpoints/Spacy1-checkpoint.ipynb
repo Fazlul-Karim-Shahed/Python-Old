{
 "cells": [
  {
   "cell_type": "code",
   "execution_count": 1,
   "id": "f10c7550-baeb-4e3e-a15f-afc01dc414be",
   "metadata": {},
   "outputs": [],
   "source": [
    "import spacy"
   ]
  },
  {
   "cell_type": "code",
   "execution_count": 2,
   "id": "a46a7dff-db73-41c0-9d49-c3655854d7a4",
   "metadata": {},
   "outputs": [],
   "source": [
    "nlp = spacy.blank(\"en\")"
   ]
  },
  {
   "cell_type": "code",
   "execution_count": 5,
   "id": "e259742c-fcdd-42c8-9952-fc4c69693567",
   "metadata": {},
   "outputs": [
    {
     "data": {
      "text/plain": [
       "[]"
      ]
     },
     "execution_count": 5,
     "metadata": {},
     "output_type": "execute_result"
    }
   ],
   "source": [
    "nlp.pipe_names"
   ]
  },
  {
   "cell_type": "code",
   "execution_count": 7,
   "id": "47316e5f-ed5a-4504-ac70-66a68cc9fa8f",
   "metadata": {},
   "outputs": [
    {
     "name": "stdout",
     "output_type": "stream",
     "text": [
      "Dr.\n",
      "Urmi\n",
      "loves\n",
      "pizza\n",
      ".\n",
      "Engr\n",
      ".\n",
      "Shahed\n",
      "loves\n",
      "to\n",
      "eat\n",
      "burger\n",
      ".\n",
      "But\n",
      "they\n",
      "love\n",
      "each\n",
      "other\n",
      "!\n"
     ]
    }
   ],
   "source": [
    "doc = nlp(\"Dr. Urmi loves pizza. Engr. Shahed loves to eat burger. But they love each other!\")\n",
    "\n",
    "for i in doc:\n",
    "    print(i)"
   ]
  },
  {
   "cell_type": "code",
   "execution_count": null,
   "id": "bb0e32dd-21ff-484b-9cdf-71091c6b6987",
   "metadata": {},
   "outputs": [],
   "source": []
  }
 ],
 "metadata": {
  "kernelspec": {
   "display_name": "Python 3 (ipykernel)",
   "language": "python",
   "name": "python3"
  },
  "language_info": {
   "codemirror_mode": {
    "name": "ipython",
    "version": 3
   },
   "file_extension": ".py",
   "mimetype": "text/x-python",
   "name": "python",
   "nbconvert_exporter": "python",
   "pygments_lexer": "ipython3",
   "version": "3.11.4"
  }
 },
 "nbformat": 4,
 "nbformat_minor": 5
}
